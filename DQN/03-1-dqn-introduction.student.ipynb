{
 "cells": [
  {
   "cell_type": "markdown",
   "id": "e5aeb1dc",
   "metadata": {
    "lines_to_next_cell": 2
   },
   "source": [
    " Copyright © Sorbonne University.\n",
    "\n",
    " This source code is licensed under the MIT license found in the LICENSE file\n",
    " in the root directory of this source tree."
   ]
  },
  {
   "cell_type": "markdown",
   "id": "d0edb714",
   "metadata": {},
   "source": [
    "# Outlook\n",
    "In this notebook, using BBRL, we code a simple version of the DQN algorithm\n",
    "without a replay buffer nor a target network so as to better understand the\n",
    "inner mechanisms.\n",
    "\n",
    "To understand this code, you need to know more about [the BBRL interaction\n",
    "model](https://github.com/osigaud/bbrl/blob/master/docs/overview.md) Then you\n",
    "should run [a didactical\n",
    "example](https://github.com/osigaud/bbrl/blob/master/docs/notebooks/02-multi_env_noautoreset.student.ipynb)\n",
    "to see how agents interact in BBRL when autoreset=False.\n",
    "\n",
    "The DQN algorithm is explained in [this\n",
    "video](https://www.youtube.com/watch?v=CXwvOMJujZk) and you can also read [the\n",
    "corresponding slides](http://pages.isir.upmc.fr/~sigaud/teach/dqn.pdf)."
   ]
  },
  {
   "cell_type": "code",
   "execution_count": 1,
   "id": "da37cf5c",
   "metadata": {
    "tags": [
     "hide-input"
    ]
   },
   "outputs": [
    {
     "name": "stderr",
     "output_type": "stream",
     "text": [
      "c:\\Users\\simon\\miniconda3\\envs\\bima\\Lib\\site-packages\\bbrl_utils\\notebook.py:46: TqdmExperimentalWarning: Using `tqdm.autonotebook.tqdm` in notebook mode. Use `tqdm.tqdm` instead to force console mode (e.g. in jupyter console)\n",
      "  from tqdm.autonotebook import tqdm  # noqa: F401\n"
     ]
    }
   ],
   "source": [
    "# Prepare the environment\n",
    "try:\n",
    "    from easypip import easyimport\n",
    "except ModuleNotFoundError:\n",
    "    from subprocess import run\n",
    "    assert run([\"pip\", \"install\", \"easypip\"]).returncode == 0, \"Could not install easypip\"\n",
    "    from easypip import easyimport\n",
    "\n",
    "easyimport(\"swig\")\n",
    "easyimport(\"bbrl_utils\").setup(maze_mdp=True)\n",
    "\n",
    "import os\n",
    "\n",
    "import bbrl_gymnasium  # noqa: F401\n",
    "import torch\n",
    "import torch.nn as nn\n",
    "from bbrl.agents import Agent, Agents\n",
    "from bbrl_utils.algorithms import EpisodicAlgo\n",
    "from bbrl_utils.nn import build_mlp, setup_optimizer\n",
    "from bbrl_utils.notebook import setup_tensorboard\n",
    "from omegaconf import OmegaConf"
   ]
  },
  {
   "cell_type": "markdown",
   "id": "04bee333",
   "metadata": {},
   "source": [
    "# Learning environment\n",
    "\n",
    "## Configuration\n",
    "\n",
    "The learning environment is controlled by a configuration that define a few\n",
    "important things as described in the example below. This configuration can\n",
    "hold as many extra information as you need, the example below is the minimal\n",
    "one.\n",
    "\n",
    "```python\n",
    "params = {\n",
    "    # This defines the a path for logs and saved models\n",
    "    \"base_dir\": \"${gym_env.env_name}/myalgo_${current_time:}\",\n",
    "\n",
    "    # The Gymnasium environment\n",
    "    \"gym_env\": {\n",
    "        \"env_name\": \"CartPoleContinuous-v1\",\n",
    "    },\n",
    "\n",
    "    # Algorithm\n",
    "    \"algorithm\": {\n",
    "        # Seed used for the random number generator\n",
    "        \"seed\": 1023,\n",
    "\n",
    "        # Number of parallel training environments\n",
    "        \"n_envs\": 8,\n",
    "                \n",
    "        # Minimum number of steps between two evaluations\n",
    "        \"eval_interval\": 500,\n",
    "        \n",
    "        # Number of parallel evaluation environments\n",
    "        \"nb_evals\": 10,\n",
    "\n",
    "        # Number of epochs (loops)\n",
    "        \"max_epochs\": 40000,\n",
    "\n",
    "    },\n",
    "}\n",
    "\n",
    "# Creates the configuration object, i.e. cfg.algorithm.nb_evals is 10\n",
    "cfg = OmegaConf.create(params)\n",
    "```\n",
    "\n",
    "## The RL algorithm\n",
    "\n",
    "In this notebook, the RL algorithm is based on `EpisodicAlgo`, that defines\n",
    "the algorithm environment when using episodes. To use such environment, we\n",
    "just need to subclass `EpisodicAlgo` and to define two things, namely the\n",
    "`train_policy` and the `eval_policy`. Both are BBRL agents that, given the\n",
    "environment state, select the action to perform.\n",
    "\n",
    "```py\n",
    "  class MyAlgo(EpisodicAlgo):\n",
    "      def __init__(self, cfg):\n",
    "          super().__init__(cfg)\n",
    "\n",
    "          # Define the train and evaluation policies\n",
    "          # (the agents compute the workspace `action` variable)\n",
    "          self.train_policy = MyPolicyAgent(...)\n",
    "          self.eval_policy = MyEvalAgent(...)\n",
    "\n",
    "algo = MyAlgo(cfg)\n",
    "```\n",
    "\n",
    "The `EpisodicAlgo` defines useful objects:\n",
    "\n",
    "- `algo.cfg` is the configuration\n",
    "- `algo.nb_steps` (integer) is the number of steps since the training began\n",
    "- `algo.logger` is a logger that can be used to collect statistics during training:\n",
    "    - `algo.logger.add_log(\"critic_loss\", critic_loss, algo.nb_steps)` registers the `critic_loss` value on tensorboard\n",
    "- `algo.evaluate()` evaluates the current `eval_policy` if needed, and keeps the\n",
    "agent if it was the best so far (average cumulated reward);\n",
    "- `algo.visualize_best()` runs the best agent on one episode, and displays the video\n",
    "\n",
    "\n",
    "\n",
    "Besides, it also defines an `iter_episodes` is simple:\n",
    "\n",
    "```py\n",
    "  # With episodes\n",
    "  for workspace in rl_algo.iter_episodes():\n",
    "      # workspace is a workspace containing transitions\n",
    "      # Episodes shorter than the longer one contain duplicated\n",
    "      # transitions (with `env/done` set to true)\n",
    "      ...\n",
    "```"
   ]
  },
  {
   "cell_type": "markdown",
   "id": "cd86d266",
   "metadata": {},
   "source": [
    "## Definition of agents\n",
    "\n",
    "The [DQN](https://daiwk.github.io/assets/dqn.pdf) algorithm is a critic only\n",
    "algorithm. Thus we just need a Critic agent (which is also used to output\n",
    "actions) and an Environment agent.\n",
    "\n",
    "### The critic agent\n",
    "\n",
    "The critic agent is an instance of the `DiscreteQAgent` class. We first build\n",
    "a deterministic neural network that takes the state as input (so it has one\n",
    "input neuron per state variable) and that outputs the Q-value of each action\n",
    "in that state (so it has one output neuron per action)."
   ]
  },
  {
   "cell_type": "markdown",
   "id": "6d8c24c5",
   "metadata": {
    "lines_to_next_cell": 2
   },
   "source": [
    "As any BBRL agent, the DiscreteQAgent has a `forward()` function that takes a\n",
    "time state as input. This `forward()` function outputs the Q-values of all\n",
    "actions at the corresponding time step. Additionally, if the critic is used to\n",
    "choose an action, it also outputs the chosen action at the same time step."
   ]
  },
  {
   "cell_type": "code",
   "execution_count": 2,
   "id": "c1a7a00b",
   "metadata": {
    "lines_to_next_cell": 2
   },
   "outputs": [],
   "source": [
    "class DiscreteQAgent(Agent):\n",
    "    \"\"\"BBRL agent (discrete actions) based on a MLP\"\"\"\n",
    "\n",
    "    def __init__(self, state_dim, hidden_layers, action_dim):\n",
    "        super().__init__()\n",
    "        self.model = build_mlp(\n",
    "            [state_dim] + list(hidden_layers) + [action_dim], activation=nn.ReLU()\n",
    "        )\n",
    "\n",
    "    def forward(self, t: int, **kwargs):\n",
    "        \"\"\"An Agent can use self.workspace\"\"\"\n",
    "\n",
    "        # Retrieves the observation from the environment at time t\n",
    "        obs = self.get((\"env/env_obs\", t))\n",
    "\n",
    "        # Computes the critic (Q) values for the observation\n",
    "        q_values = self.model(obs)\n",
    "\n",
    "        # ... and sets the q-values (one for each possible action)\n",
    "        self.set((\"q_values\", t), q_values)"
   ]
  },
  {
   "cell_type": "markdown",
   "id": "7112a772",
   "metadata": {},
   "source": [
    "#### Greedily choosing the action\n",
    "\n",
    "The ArgmaxActionSelector is in charge of choosing the action whose Q-value is\n",
    "the highest given the Q-values of all actions. We may use it when we do not\n",
    "want to explore."
   ]
  },
  {
   "cell_type": "code",
   "execution_count": 3,
   "id": "2755bc6b",
   "metadata": {
    "lines_to_next_cell": 2
   },
   "outputs": [],
   "source": [
    "class ArgmaxActionSelector(Agent):\n",
    "    \"\"\"BBRL agent that selects the best action based on Q(s,a)\"\"\"\n",
    "\n",
    "    def forward(self, t: int, **kwargs):\n",
    "        q_values = self.get((\"q_values\", t))\n",
    "        action = q_values.argmax(1)\n",
    "        self.set((\"action\", t), action)"
   ]
  },
  {
   "cell_type": "markdown",
   "id": "c91721d4",
   "metadata": {
    "lines_to_next_cell": 2
   },
   "source": [
    "### Creating an Exploration method\n",
    "\n",
    "As Q-learning, DQN needs some exploration to prevent too early convergence.\n",
    "Here we use the simple $\\epsilon$-greedy exploration method.\n",
    "It is implemented as an agent which chooses an action based on the Q-values."
   ]
  },
  {
   "cell_type": "code",
   "execution_count": 4,
   "id": "4e262109",
   "metadata": {
    "lines_to_next_cell": 2
   },
   "outputs": [],
   "source": [
    "class EGreedyActionSelector(Agent):\n",
    "    def __init__(self, epsilon):\n",
    "        super().__init__()\n",
    "        self.epsilon = epsilon\n",
    "\n",
    "    def forward(self, t: int, **kwargs):\n",
    "        # Retrieves the q values\n",
    "        # (matrix nb. of episodes x nb. of actions)\n",
    "        q_values: torch.Tensor = self.get((\"q_values\", t))\n",
    "        size, nb_actions = q_values.shape\n",
    "\n",
    "        # Flag\n",
    "        is_random = torch.rand(size) < self.epsilon\n",
    "        \n",
    "        # Actions (random / argmax)\n",
    "        random_action = torch.randint(nb_actions, size=(size,))\n",
    "        max_action = q_values.argmax(-1)\n",
    "\n",
    "        # Choose the action based on the is_random flag\n",
    "        action = torch.where(is_random, random_action, max_action)\n",
    "\n",
    "        # Sets the action at time t\n",
    "        self.set((\"action\", t), action)"
   ]
  },
  {
   "cell_type": "markdown",
   "id": "acb20b7d",
   "metadata": {},
   "source": [
    "## Heart of the algorithm\n",
    "\n",
    "### Computing the critic loss\n",
    "\n",
    "The role of the `compute_critic_loss` function is to implement the Bellman\n",
    "backup rule. In Q-learning, this rule was written:\n",
    "\n",
    "$$Q(s_t,a_t) \\leftarrow Q(s_t,a_t) + \\alpha [ r(s_t,a_t) + \\gamma \\max_a\n",
    "Q(s_{t+1},a) - Q(s_t,a_t)]$$\n",
    "\n",
    "In DQN, the update rule $Q \\leftarrow Q + \\alpha [\\delta] $ is replaced by a\n",
    "gradient descent step over the Q-network.\n",
    "\n",
    "We first compute a target value: $ target = r(s_t,a_t) + \\gamma \\max_a\n",
    "Q(s_{t+1},a)$ from a set of samples.\n",
    "\n",
    "Then we get a TD error $\\delta$ by substracting $Q(s_t,a_t)$ for these\n",
    "samples, and we use the squared TD error as a loss function: $ loss = (target) - Q(s_t,a_t))^2$.\n",
    "\n",
    "To implement the above calculation in BBRL, the difficulty is to properly deal\n",
    "with time indexes.\n",
    "\n",
    "The `compute_critic_loss` function receives rewards, q_values and actions as\n",
    "tensors that have been computed over a complete episode.\n",
    "\n",
    "We need to take `reward[1:]`, which means all the rewards except the first one\n",
    "because the reward from $(s_t, a_t)$ is $r_{t+1}$. Similarly, to get $\\max_a\n",
    "Q(s_{t+1}, a)$, we need to ignore the first of the max_q values, using\n",
    "`max_q[1:]`.\n",
    "\n",
    "Do not forget to apply .detach() when computing the values of $\\max_a\n",
    "Q(s_{t+1}, a)$, as **we do not want to apply gradient descent on this $\\max_a\n",
    "Q(s_{t+1}, a)$**, we only apply gradient descent to $Q(s_t, a_t)$ according to\n",
    "this target value. In practice, `x.detach()` detaches a computation graph from\n",
    "a tensor, so it avoids computing a gradient over this tensor.\n",
    "\n",
    "The `must_bootstrap` tensor is used as a trick to deal with terminal states,\n",
    "as explained\n",
    "[here](https://github.com/osigaud/bbrl/blob/master/docs/time_limits.md) In\n",
    "practice, `must_bootstrap` is the logical negation of `terminated`. In the\n",
    "autoreset=False version we use full episodes, thus `must_bootstrap` is always\n",
    "True for all steps but the last one.\n",
    "\n",
    "To compute $Q(s_t,a_t)$ we use the [`torch.gather()`](https://pytorch.org/docs/stable/generated/torch.gather.html) function. This function is\n",
    "a little tricky to use, see [this\n",
    "page](https://github.com/osigaud/bbrl/blob/master/docs/using_gather.md) for\n",
    "useful explanations.\n",
    "\n",
    "In particular, the q_vals output that we get is not properly conditioned,\n",
    "hence the need for the `qval[:-1]` (we ignore the last dimension). Finally we\n",
    "just need to compute the difference target - qvals, square it, take the mean\n",
    "and send it back as the loss."
   ]
  },
  {
   "cell_type": "code",
   "execution_count": 116,
   "id": "6e564df0",
   "metadata": {
    "lines_to_next_cell": 2
   },
   "outputs": [],
   "source": [
    "def compute_critic_loss(\n",
    "    cfg,\n",
    "    reward: torch.Tensor,\n",
    "    must_bootstrap: torch.Tensor,\n",
    "    done: torch.Tensor,\n",
    "    q_values: torch.Tensor,\n",
    "    action: torch.LongTensor,\n",
    ") -> torch.Tensor:\n",
    "    \"\"\"Compute the temporal difference loss from a dataset to\n",
    "    update a critic\n",
    "\n",
    "    For the tensor dimensions:\n",
    "\n",
    "    - T = maximum number of time steps\n",
    "    - B = number of episodes run in parallel\n",
    "    - A = action space dimension\n",
    "\n",
    "    :param cfg: The configuration\n",
    "    :param reward: A (T x B) tensor containing the rewards\n",
    "    :param must_bootstrap: a (T x B) tensor containing 0 at (t, b) if the\n",
    "        episode b was terminated at time $t$ (or before)\n",
    "    :param done: a (T x B) tensor containing 0 at (t, b) if the\n",
    "        episode b is truncated or terminated at time $t$ (or before)\n",
    "    :param q_values: a (T x B x A) tensor containing the Q-values at each time\n",
    "        step, and for each action\n",
    "    :param action: a (T x B) long tensor containing the chosen action\n",
    "\n",
    "    :return: The DQN loss\n",
    "    \"\"\"\n",
    "    # We compute the max of Q-values over all actions and detach (so that this\n",
    "    # part of the computation graph is not included in the gradient\n",
    "    # backpropagation)\n",
    "\n",
    "    # Compute the loss  \n",
    "\n",
    "\n",
    "    max_q_values_next = torch.max(q_values[1:], dim=2).values.detach()\n",
    "\n",
    "    target = reward[1:] + 0.9 * max_q_values_next * must_bootstrap[1:]\n",
    "\n",
    "\n",
    "    q_vals = torch.gather(q_values[:-1], 2, action[:-1].unsqueeze(-1))\n",
    "\n",
    "    \n",
    "    td_error = target - q_vals.squeeze(-1)\n",
    "\n",
    "\n",
    "    critic_loss = (td_error ** 2).mean()\n",
    "\n",
    "\n",
    "    return critic_loss"
   ]
  },
  {
   "cell_type": "markdown",
   "id": "7aa5b874",
   "metadata": {
    "lines_to_next_cell": 2
   },
   "source": [
    "## Main training loop\n",
    "\n",
    "Note that everything about the shared workspace between all the agents is\n",
    "completely hidden under the hood. This results in a gain of productivity, at\n",
    "the expense of having to dig into the BBRL code if you want to understand the\n",
    "details, change the multiprocessing model, etc.\n",
    "\n",
    "The next cells defines a `EpisodicDQN` that deals with various part of the\n",
    "training loop."
   ]
  },
  {
   "cell_type": "code",
   "execution_count": 121,
   "id": "5d5fdf9d",
   "metadata": {},
   "outputs": [],
   "source": [
    "class EpisodicDQN(EpisodicAlgo):\n",
    "    def __init__(self, cfg):\n",
    "        super().__init__(cfg)\n",
    "\n",
    "        # Get the observation / action state space dimensions\n",
    "        obs_size, act_size = self.train_env.get_obs_and_actions_sizes()\n",
    "\n",
    "        # Our discrete Q-Agent\n",
    "        self.q_agent = DiscreteQAgent(\n",
    "            obs_size, cfg.algorithm.architecture.hidden_size, act_size\n",
    "        )\n",
    "\n",
    "        # The e-greedy strategy (when training)\n",
    "        explorer = EGreedyActionSelector(cfg.algorithm.epsilon)\n",
    "\n",
    "        # The training agent combines the Q agent\n",
    "        self.train_policy = Agents(self.q_agent, explorer)\n",
    "\n",
    "        # The optimizer for the Q-Agent parameters\n",
    "        self.optimizer = setup_optimizer(self.cfg.optimizer, self.q_agent)\n",
    "\n",
    "        # ...and the evaluation policy (select the most likely action)\n",
    "        self.eval_policy = Agents(self.q_agent, ArgmaxActionSelector())\n",
    "\n",
    "    def run(self):\n",
    "        critic_loss = None\n",
    "        for train_workspace in self.iter_episodes():\n",
    "            q_values, terminated, done, reward, action = train_workspace[\n",
    "                \"q_values\", \"env/terminated\", \"env/done\", \"env/reward\", \"action\"\n",
    "            ]\n",
    "\n",
    "            # Determines whether values of the critic should be propagated\n",
    "            # True if the episode reached a time limit or if the task was not done\n",
    "            # See https://github.com/osigaud/bbrl/blob/master/docs/time_limits.md\n",
    "            must_bootstrap = ~terminated\n",
    "\n",
    "            # Compute critic loss\n",
    "            critic_loss = compute_critic_loss(\n",
    "                self.cfg, reward, must_bootstrap, done, q_values, action\n",
    "            )\n",
    "\n",
    "            # Store the loss for tensorboard display\n",
    "            self.logger.add_log(\"critic_loss\", critic_loss, self.nb_steps)\n",
    "            dqn.logger.add_log(\"q_values/min\", q_values.max(-1).values.min(), dqn.nb_steps)\n",
    "            dqn.logger.add_log(\"q_values/max\", q_values.max(-1).values.max(), dqn.nb_steps)\n",
    "            dqn.logger.add_log(\"q_values/mean\", q_values.max(-1).values.mean(), dqn.nb_steps)\n",
    "\n",
    "            # Gradient step\n",
    "            self.optimizer.zero_grad()\n",
    "            critic_loss.backward()\n",
    "            torch.nn.utils.clip_grad_norm_(\n",
    "                self.q_agent.parameters(), self.cfg.algorithm.max_grad_norm\n",
    "            )\n",
    "            self.optimizer.step()\n",
    "\n",
    "            # Evaluate the current policy (if needed)\n",
    "            self.evaluate()\n",
    "        print(critic_loss)"
   ]
  },
  {
   "cell_type": "code",
   "execution_count": null,
   "id": "d51d05fc",
   "metadata": {
    "lines_to_next_cell": 2
   },
   "outputs": [],
   "source": [
    "# We setup tensorboard before running DQN\n",
    "setup_tensorboard(\"./outputs/tblogs\")"
   ]
  },
  {
   "cell_type": "code",
   "execution_count": 16,
   "id": "1186e19a",
   "metadata": {},
   "outputs": [],
   "source": [
    "params = {\n",
    "    \"save_best\": False,\n",
    "    \"base_dir\": \"${gym_env.env_name}/dqn-simple-S${algorithm.seed}_${current_time:}\",\n",
    "    \"collect_stats\": True,\n",
    "    \"algorithm\": {\n",
    "        \"seed\": 3,\n",
    "        \"max_grad_norm\": 0.5,\n",
    "        \"epsilon\": 0.1,\n",
    "        \"n_envs\": 8,\n",
    "        \"eval_interval\": 5_000,\n",
    "        \"max_epochs\": 500,\n",
    "        \"nb_evals\": 10,\n",
    "        \"discount_factor\": 0.99,\n",
    "        \"architecture\": {\"hidden_size\": [256, 256]},\n",
    "    },\n",
    "    \"gym_env\": {\n",
    "        \"env_name\": \"CartPole-v1\",\n",
    "    },\n",
    "    \"optimizer\": {\n",
    "        \"classname\": \"torch.optim.Adam\",\n",
    "        \"lr\": 2e-3,\n",
    "    },\n",
    "}\n",
    "\n",
    "dqn = EpisodicDQN(OmegaConf.create(params))"
   ]
  },
  {
   "cell_type": "code",
   "execution_count": 122,
   "id": "e860743c",
   "metadata": {},
   "outputs": [
    {
     "data": {
      "application/vnd.jupyter.widget-view+json": {
       "model_id": "a20b6033133142fdab450e124ec68523",
       "version_major": 2,
       "version_minor": 0
      },
      "text/plain": [
       "  0%|          | 0/500 [00:00<?, ?it/s]"
      ]
     },
     "metadata": {},
     "output_type": "display_data"
    },
    {
     "name": "stdout",
     "output_type": "stream",
     "text": [
      "Video of best agent recorded in outputs\\CartPole-v1\\dqn-simple-S3_20250206-162150\\best_agent.mp4\n",
      "Moviepy - Building video C:\\Users\\simon\\OneDrive\\Bureau\\ANDROIDE\\S2\\PANDROIDE\\DQN\\outputs\\CartPole-v1\\dqn-simple-S3_20250206-162150\\best_agent.mp4.\n",
      "Moviepy - Writing video C:\\Users\\simon\\OneDrive\\Bureau\\ANDROIDE\\S2\\PANDROIDE\\DQN\\outputs\\CartPole-v1\\dqn-simple-S3_20250206-162150\\best_agent.mp4\n",
      "\n"
     ]
    },
    {
     "name": "stderr",
     "output_type": "stream",
     "text": [
      "                                                               \r"
     ]
    },
    {
     "name": "stdout",
     "output_type": "stream",
     "text": [
      "Moviepy - Done !\n",
      "Moviepy - video ready C:\\Users\\simon\\OneDrive\\Bureau\\ANDROIDE\\S2\\PANDROIDE\\DQN\\outputs\\CartPole-v1\\dqn-simple-S3_20250206-162150\\best_agent.mp4\n"
     ]
    },
    {
     "data": {
      "text/html": [
       "<div align=middle><video src='data:video/mp4;base64,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' controls>Sorry, seems like your browser doesn't support HTML5 audio/video</video></div>"
      ],
      "text/plain": [
       "<moviepy.video.io.html_tools.HTML2 object>"
      ]
     },
     "execution_count": 122,
     "metadata": {},
     "output_type": "execute_result"
    }
   ],
   "source": [
    "# Run and visualize the best agent\n",
    "dqn.run()\n",
    "dqn.visualize_best()"
   ]
  },
  {
   "cell_type": "markdown",
   "id": "8420551b",
   "metadata": {},
   "source": [
    "## What's next?\n",
    "\n",
    "To get a full DQN, we need to do the following:\n",
    "- Add a replay buffer. We can add a replay buffer independently from the\n",
    "  target network. The version with a replay buffer and no target network\n",
    "  corresponds to [the NQF\n",
    "  algorithm](https://link.springer.com/content/pdf/10.1007/11564096_32.pdf).\n",
    "  This will be the aim of the next notebook.\n",
    "- Before adding the replay buffer, we will first move to a version of DQN\n",
    "  which uses the AutoResetGymAgent. This will be the aim of the next notebook\n",
    "  too.\n",
    "- We should also add a few extra-mechanisms which are present in the full DQN\n",
    "  version: starting to learn once the replay buffer is full enough, decreasing\n",
    "  the exploration rate epsilon...\n",
    "<!-- - We could also add visualization tools to visualize the learned Q network, by using the `plot_critic` function available in [`bbrl.visu.visu_critics`](https://github.com/osigaud/bbrl/blob/master/src/bbrl/visu/visu_critics.py#L13) -->"
   ]
  },
  {
   "cell_type": "markdown",
   "id": "115d63dc",
   "metadata": {},
   "source": []
  }
 ],
 "metadata": {
  "jupytext": {
   "cell_markers": "\"\"\""
  },
  "kernelspec": {
   "display_name": "bima",
   "language": "python",
   "name": "python3"
  },
  "language_info": {
   "codemirror_mode": {
    "name": "ipython",
    "version": 3
   },
   "file_extension": ".py",
   "mimetype": "text/x-python",
   "name": "python",
   "nbconvert_exporter": "python",
   "pygments_lexer": "ipython3",
   "version": "3.12.7"
  }
 },
 "nbformat": 4,
 "nbformat_minor": 5
}
